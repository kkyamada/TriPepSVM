{
 "cells": [
  {
   "cell_type": "markdown",
   "metadata": {},
   "source": [
    "# Assess Sensitivity & Overlap with RIC studies"
   ]
  },
  {
   "cell_type": "code",
   "execution_count": 1,
   "metadata": {},
   "outputs": [],
   "source": [
    "import pandas as pd\n",
    "import numpy as np\n",
    "import mygene\n",
    "import Bio.SeqIO as sio\n",
    "import matplotlib_venn\n",
    "import matplotlib.pyplot as plt\n",
    "import seaborn\n",
    "plt.rc('font', family='Times New Roman')\n",
    "%matplotlib inline"
   ]
  },
  {
   "cell_type": "code",
   "execution_count": 2,
   "metadata": {},
   "outputs": [],
   "source": [
    "# PARAMETERS\n",
    "tripepsvm_optimal = 0.68 # from figure 2"
   ]
  },
  {
   "cell_type": "markdown",
   "metadata": {},
   "source": [
    "## 1. Load proteomewide prediction of TriPepSVM (on human proteome)"
   ]
  },
  {
   "cell_type": "code",
   "execution_count": 3,
   "metadata": {},
   "outputs": [
    {
     "name": "stdout",
     "output_type": "stream",
     "text": [
      "TriPepSVM predicts 2944 RBPs in Human\n"
     ]
    }
   ],
   "source": [
    "protwide_tripepsvm_human = pd.read_csv('../data/proteome_prediction_human/proteome_9606.TriPepSVM.pred.txt',\n",
    "                                       sep='\\t', header=None, names=['Uniprot_ID', 'Score', 'Class'])\n",
    "protwide_tripepsvm_human['Uniprot_ID'] = [n.split('|')[1].strip() for n in protwide_tripepsvm_human.Uniprot_ID]\n",
    "no_total_pred = protwide_tripepsvm_human[protwide_tripepsvm_human.Score >= tripepsvm_optimal].shape[0]\n",
    "tripep_protwide_pred = protwide_tripepsvm_human[protwide_tripepsvm_human.Score >= tripepsvm_optimal]\n",
    "print (\"TriPepSVM predicts {} RBPs in Human\".format(no_total_pred))"
   ]
  },
  {
   "cell_type": "markdown",
   "metadata": {},
   "source": [
    "## 2. Get Uniprot IDs for all independent studies\n",
    "For that, we have to load the csv files (derived from tables in the supplementaries of each paper) and map the IDs using the _MyGene_ service."
   ]
  },
  {
   "cell_type": "code",
   "execution_count": 4,
   "metadata": {},
   "outputs": [
    {
     "name": "stdout",
     "output_type": "stream",
     "text": [
      "Beckmann paper validates 783 RBPs\n"
     ]
    }
   ],
   "source": [
    "beck = pd.read_csv('../data/RIC_studies/rna_binding_proteomes_from_yeast_to_man_human_interactome.csv')\n",
    "beck_uniprot_ids = list(set(beck.Uniprot))\n",
    "print (\"Beckmann paper validates {} RBPs\".format(len(beck_uniprot_ids)))"
   ]
  },
  {
   "cell_type": "code",
   "execution_count": 5,
   "metadata": {},
   "outputs": [
    {
     "name": "stdout",
     "output_type": "stream",
     "text": [
      "querying 1-382...done.\n",
      "Finished.\n",
      "19 input query terms found no hit:\n",
      "\t['ENSG00000268489', 'ENSG00000185554', 'ENSG00000263344', 'ENSG00000268226', 'ENSG00000268612', 'ENS\n",
      "Pass \"returnall=True\" to return complete lists of duplicate or missing query terms.\n",
      "No uniprot ID found for ENSG00000268489\n",
      "No uniprot ID found for ENSG00000185554\n",
      "No uniprot ID found for ENSG00000263344\n",
      "No uniprot ID found for ENSG00000268226\n",
      "No uniprot ID found for ENSG00000268612\n",
      "No uniprot ID found for ENSG00000215699\n",
      "No uniprot ID found for ENSG00000260501\n",
      "No uniprot ID found for ENSG00000261493\n",
      "No uniprot ID found for ENSG00000260485\n",
      "No uniprot ID found for ENSG00000263977\n",
      "No uniprot ID found for ENSG00000141141\n",
      "No uniprot ID found for ENSG00000172660\n",
      "No uniprot ID found for ENSG00000261932\n",
      "No uniprot ID found for ENSG00000263077\n",
      "No uniprot ID found for ENSG00000177764\n",
      "No uniprot ID found for ENSG00000261306\n",
      "No uniprot ID found for ENSG00000268642\n",
      "No uniprot ID found for ENSG00000262589\n",
      "No uniprot ID found for ENSG00000108270\n",
      "Conrad paper validates 382 RBPs\n"
     ]
    }
   ],
   "source": [
    "conrad = pd.read_csv('../data/RIC_studies/serial_interactome_capture_of_the_human_cell_nucleus.csv', header=1)\n",
    "def get_uniprot_id(gene):\n",
    "    if not 'uniprot' in gene:\n",
    "        print (\"No uniprot ID found for {}\".format(gene['query']))\n",
    "        return None\n",
    "    else:\n",
    "        if not 'Swiss-Prot' in gene['uniprot']:\n",
    "            print (\"No Swiss-Prot ID for {}\".format(gene['query']))\n",
    "            return None\n",
    "        if type(gene['uniprot']['Swiss-Prot']) is list:\n",
    "            return gene['uniprot']['Swiss-Prot'][0]\n",
    "        else:\n",
    "            return gene['uniprot']['Swiss-Prot']\n",
    "\n",
    "mg = mygene.MyGeneInfo()\n",
    "conrad_ens_IDs = list(set(list(conrad[~conrad.ID.isnull()].ID) + list(conrad[~conrad['ID.1'].isnull()]['ID.1'])))\n",
    "res = mg.querymany(conrad_ens_IDs, scopes='ensemblgene', fields='uniprot', species='human')\n",
    "conrad_uniprot_ids = [get_uniprot_id(gene) for gene in res]\n",
    "print (\"Conrad paper validates {} RBPs\".format(len(conrad_uniprot_ids)))"
   ]
  },
  {
   "cell_type": "code",
   "execution_count": 6,
   "metadata": {},
   "outputs": [
    {
     "name": "stdout",
     "output_type": "stream",
     "text": [
      "querying 1-1000...done.\n",
      "querying 1001-1393...done.\n",
      "Finished.\n",
      "No uniprot ID found for ENSG00000188004\n",
      "No Swiss-Prot ID for ENSG00000277936\n",
      "No Swiss-Prot ID for ENSG00000271425\n",
      "No uniprot ID found for ENSG00000254535\n",
      "No Swiss-Prot ID for ENSG00000100101\n",
      "No Swiss-Prot ID for ENSG00000215472\n",
      "Hentze paper validates 1393 RBPs\n"
     ]
    }
   ],
   "source": [
    "hentze = pd.read_csv('../data/RIC_studies/brave_new_rbp_world_human_rbps.csv', sep='\\t')\n",
    "hentze = hentze.iloc[1:, :] # remove row with study names\n",
    "\n",
    "hentze_ens_IDs = [i[0] for i in hentze.ID.str.split(';')]\n",
    "res = mg.querymany(hentze_ens_IDs, scopes='ensemblgene', fields='uniprot', species='human')\n",
    "hentze_uniprot_ids = [get_uniprot_id(gene) for gene in res]\n",
    "print (\"Hentze paper validates {} RBPs\".format(len(hentze_uniprot_ids)))"
   ]
  },
  {
   "cell_type": "code",
   "execution_count": 7,
   "metadata": {},
   "outputs": [
    {
     "name": "stdout",
     "output_type": "stream",
     "text": [
      "querying 1-797...done.\n",
      "Finished.\n",
      "1 input query terms found dup hits:\n",
      "\t[('NP_001136113', 2)]\n",
      "3 input query terms found no hit:\n",
      "\t['NP_277028', 'NP_849152', 'NP_001127705']\n",
      "Pass \"returnall=True\" to return complete lists of duplicate or missing query terms.\n",
      "No uniprot ID found for NP_001108206\n",
      "No Swiss-Prot ID for NP_115727\n",
      "No uniprot ID found for NP_277028\n",
      "No uniprot ID found for NP_849152\n",
      "No uniprot ID found for NP_001127705\n",
      "No Swiss-Prot ID for NP_001034792\n",
      "Baltz paper validates 797 RBPs\n"
     ]
    }
   ],
   "source": [
    "baltz = pd.read_csv('../data/RIC_studies/the_mrna_bound_proteome_and_its_global_occupancy_profile.csv', header=1)\n",
    "baltz_refseq_ids = baltz.RefSeq\n",
    "res = mg.querymany(baltz_refseq_ids, scopes='refseq', fields='uniprot', species='human')\n",
    "baltz_uniprot_ids = [get_uniprot_id(gene) for gene in res]\n",
    "print (\"Baltz paper validates {} RBPs\".format(len(baltz_uniprot_ids)))"
   ]
  },
  {
   "cell_type": "markdown",
   "metadata": {},
   "source": [
    "## 3. Compute Sensitivity of each study with our predictions"
   ]
  },
  {
   "cell_type": "code",
   "execution_count": 8,
   "metadata": {},
   "outputs": [],
   "source": [
    "def get_sensitivity(protwide_pred, rbp_ids, cutoff):\n",
    "    ids_present = protwide_pred[protwide_pred.Uniprot_ID.isin(rbp_ids)].Uniprot_ID\n",
    "    pos_protwide_pred = protwide_pred[protwide_pred.Score >= cutoff]\n",
    "    no_tp = pos_protwide_pred[pos_protwide_pred.Uniprot_ID.isin(rbp_ids)].shape[0]\n",
    "    return no_tp, ids_present, no_tp / ids_present.shape[0]\n",
    "\n",
    "beck_overlap, beck_valid_ids, beck_sens = get_sensitivity(protwide_tripepsvm_human, beck_uniprot_ids, tripepsvm_optimal)\n",
    "conrad_overlap, conrad_valid_ids, conrad_sens = get_sensitivity(protwide_tripepsvm_human, conrad_uniprot_ids, tripepsvm_optimal)\n",
    "baltz_overlap, baltz_valid_ids, baltz_sens = get_sensitivity(protwide_tripepsvm_human, baltz_uniprot_ids, tripepsvm_optimal)\n",
    "hentze_overlap, hentze_valid_ids, hentze_sens = get_sensitivity(protwide_tripepsvm_human, hentze_uniprot_ids, tripepsvm_optimal)"
   ]
  },
  {
   "cell_type": "code",
   "execution_count": 9,
   "metadata": {},
   "outputs": [
    {
     "name": "stdout",
     "output_type": "stream",
     "text": [
      "Overlap between OligoPepSVM predictions and Validations:\n",
      "Beckmann et al.: Overlap: 668\tStudy Size: 782\tSensitivity: 0.8542199488491049\n",
      "Conrad et al.: Overlap: 329\tStudy Size: 362\tSensitivity: 0.9088397790055248\n",
      "Baltz et al.: Overlap: 727\tStudy Size: 789\tSensitivity: 0.9214195183776933\n",
      "Hentze et al.: Overlap: 1068\tStudy Size: 1377\tSensitivity: 0.775599128540305\n"
     ]
    }
   ],
   "source": [
    "print (\"Overlap between OligoPepSVM predictions and Validations:\")\n",
    "print (\"Beckmann et al.: Overlap: {}\\tStudy Size: {}\\tSensitivity: {}\".format(beck_overlap, beck_valid_ids.shape[0], beck_sens))\n",
    "print (\"Conrad et al.: Overlap: {}\\tStudy Size: {}\\tSensitivity: {}\".format(conrad_overlap, conrad_valid_ids.shape[0], conrad_sens))\n",
    "print (\"Baltz et al.: Overlap: {}\\tStudy Size: {}\\tSensitivity: {}\".format(baltz_overlap, baltz_valid_ids.shape[0], baltz_sens))\n",
    "print (\"Hentze et al.: Overlap: {}\\tStudy Size: {}\\tSensitivity: {}\".format(hentze_overlap, hentze_valid_ids.shape[0], hentze_sens))"
   ]
  },
  {
   "cell_type": "markdown",
   "metadata": {},
   "source": [
    "## 4. Compute and visualize the overlap between RIC studies, Pfam domains & our predictions"
   ]
  },
  {
   "cell_type": "code",
   "execution_count": 12,
   "metadata": {},
   "outputs": [
    {
     "data": {
      "image/png": "[encoded data removed]",
      "text/plain": [
       "<Figure size 1008x576 with 1 Axes>"
      ]
     },
     "metadata": {},
     "output_type": "display_data"
    }
   ],
   "source": [
    "prots_with_pfam = pd.read_csv('../data/pfam_domains_proteome/9606.Pfam_HMMER.pred.proteome.txt', sep='\\t', header=None, names=['Uniprot'])\n",
    "all_validated = list(set(pd.concat((beck_valid_ids, conrad_valid_ids, baltz_valid_ids, hentze_valid_ids))))\n",
    "\n",
    "fig = plt.figure(figsize=(14, 8))\n",
    "v = matplotlib_venn.venn3([set(all_validated), set(tripep_protwide_pred.Uniprot_ID), set(prots_with_pfam.Uniprot)],\n",
    "          set_labels=['Union RIC studies', 'TriPepSVM Predicted', 'Containing RBD (Pfam)'])\n",
    "v.get_patch_by_id('10').set_color('#3d3e3d')\n",
    "v.get_patch_by_id('11').set_color('#37652d')\n",
    "v.get_patch_by_id('01').set_color('#ee7600')\n",
    "v.get_patch_by_id('111').set_color('#890707')\n",
    "v.get_patch_by_id('101').set_color('#6E80B7')\n",
    "v.get_patch_by_id('011').set_color('#4d2600')\n",
    "v.get_patch_by_id('001').set_color('#031F6F')\n",
    "v.get_label_by_id('A').set_fontsize(20)\n",
    "v.get_label_by_id('B').set_fontsize(20)\n",
    "v.get_label_by_id('C').set_fontsize(20)\n",
    "v.get_label_by_id('10').set_fontsize(20)\n",
    "v.get_label_by_id('11').set_fontsize(20)\n",
    "v.get_label_by_id('01').set_fontsize(20)\n",
    "v.get_label_by_id('111').set_fontsize(20)\n",
    "v.get_label_by_id('101').set_fontsize(20)\n",
    "v.get_label_by_id('011').set_fontsize(20)\n",
    "v.get_label_by_id('001').set_fontsize(20)\n",
    "fig.savefig('overlap_all_studies_oligo_pfam.svg')"
   ]
  },
  {
   "cell_type": "markdown",
   "metadata": {},
   "source": [
    "## 5. Derive annotated list of all proteins"
   ]
  },
  {
   "cell_type": "code",
   "execution_count": 14,
   "metadata": {},
   "outputs": [
    {
     "name": "stdout",
     "output_type": "stream",
     "text": [
      "querying 1-1000...done.\n",
      "querying 1001-2000...done.\n",
      "querying 2001-3000...done.\n",
      "querying 3001-4000...done.\n",
      "querying 4001-5000...done.\n",
      "querying 5001-6000...done.\n",
      "querying 6001-7000...done.\n",
      "querying 7001-8000...done.\n",
      "querying 8001-9000...done.\n",
      "querying 9001-10000...done.\n",
      "querying 10001-11000...done.\n",
      "querying 11001-12000...done.\n",
      "querying 12001-13000...done.\n",
      "querying 13001-14000...done.\n",
      "querying 14001-15000...done.\n",
      "querying 15001-16000...done.\n",
      "querying 16001-17000...done.\n",
      "querying 17001-18000...done.\n",
      "querying 18001-19000...done.\n",
      "querying 19001-20000...done.\n",
      "querying 20001-20410...done.\n",
      "Finished.\n",
      "332 input query terms found dup hits:\n",
      "\t[('Q8NG57', 2), ('P0DPD8', 2), ('P0DPD6', 2), ('A0A0C4DH41', 2), ('A0A0C4DH38', 2), ('A0A0B4J1U7', 2\n",
      "1124 input query terms found no hit:\n",
      "\t['Q9N2K0', 'O42043', 'P61566', 'Q9HDB8', 'A0A087WX78', 'B3EWF7', 'Q9NRJ2', 'Q902F9', 'P0CJ85', 'Q658\n",
      "Pass \"returnall=True\" to return complete lists of duplicate or missing query terms.\n"
     ]
    }
   ],
   "source": [
    "mg = mygene.MyGeneInfo()\n",
    "res = mg.querymany(protwide_tripepsvm_human.Uniprot_ID, scopes='uniprot', fields='symbol', species='human')\n",
    "\n",
    "def get_symbol_from_res(r):\n",
    "    if 'symbol' in r:\n",
    "        return [r['query'], r['symbol']]\n",
    "    else:\n",
    "        return [r['query'], np.nan]\n",
    "\n",
    "map_list = [get_symbol_from_res(i) for i in res]\n",
    "mapping = pd.DataFrame(map_list, columns=['Uniprot', 'Symbol']).set_index('Uniprot')\n",
    "mapping = mapping[~mapping.index.duplicated()]\n",
    "proteome_withnames = protwide_tripepsvm_human.set_index('Uniprot_ID').join(mapping)"
   ]
  },
  {
   "cell_type": "code",
   "execution_count": 15,
   "metadata": {},
   "outputs": [],
   "source": [
    "# change column order to prepare for additional columns\n",
    "proteome_withnames.columns = ['TriPepSVM Score', 'TriPepSVM Prediction', 'Symbol']\n",
    "cols = proteome_withnames.columns.tolist()\n",
    "proteome_withnames = proteome_withnames[[cols[-1]] + cols[:-1]]\n",
    "\n",
    "# add IC study column\n",
    "proteome_withnames['In IC study'] = False\n",
    "proteome_withnames.loc[proteome_withnames.index.isin(all_validated), 'In IC study'] = True\n",
    "\n",
    "# add Pfam column\n",
    "proteome_withnames['Contains Pfam Domain'] = False\n",
    "proteome_withnames.loc[proteome_withnames.index.isin(prots_with_pfam.Uniprot), 'Contains Pfam Domain'] = True"
   ]
  },
  {
   "cell_type": "code",
   "execution_count": 17,
   "metadata": {},
   "outputs": [],
   "source": [
    "proteome_withnames.sort_values(by='TriPepSVM Score', ascending=False).to_csv('venn_diagram_fig3_table.tsv', sep='\\t')"
   ]
  }
 ],
 "metadata": {
  "kernelspec": {
   "display_name": "Python 3",
   "language": "python",
   "name": "python3"
  },
  "language_info": {
   "codemirror_mode": {
    "name": "ipython",
    "version": 3
   },
   "file_extension": ".py",
   "mimetype": "text/x-python",
   "name": "python",
   "nbconvert_exporter": "python",
   "pygments_lexer": "ipython3",
   "version": "3.6.8"
  }
 },
 "nbformat": 4,
 "nbformat_minor": 2
}
